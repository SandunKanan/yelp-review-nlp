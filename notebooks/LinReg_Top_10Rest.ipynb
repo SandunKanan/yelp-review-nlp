{
 "cells": [
  {
   "cell_type": "markdown",
   "id": "48ca24b9-919f-4c58-afa3-2b4b57e19a44",
   "metadata": {},
   "source": [
    "# Import libraries"
   ]
  },
  {
   "cell_type": "code",
   "execution_count": 1,
   "id": "5a6bc3bf-3ced-4cce-beed-f0581df7e4c5",
   "metadata": {},
   "outputs": [],
   "source": [
    "import pandas as pd\n",
    "from sklearn.model_selection import train_test_split\n",
    "from sklearn.linear_model import LinearRegression\n",
    "import warnings\n",
    "warnings.filterwarnings(\"ignore\")"
   ]
  },
  {
   "cell_type": "markdown",
   "id": "92112678-dc88-4df5-bfc5-bcfe20672cac",
   "metadata": {},
   "source": [
    "# 1. Import dataframe with top 10 restaurants"
   ]
  },
  {
   "cell_type": "code",
   "execution_count": 6,
   "id": "6c02ad7c-d7cb-4ebf-bc7a-94db343a1626",
   "metadata": {},
   "outputs": [
    {
     "data": {
      "text/plain": [
       "((570443, 3), Index(['business_id', 'stars', 'clean_text'], dtype='object'))"
      ]
     },
     "execution_count": 6,
     "metadata": {},
     "output_type": "execute_result"
    }
   ],
   "source": [
    "df  = pd.read_csv('./csv/filtered_reviews_clean.csv')\n",
    "df.shape, df.columns"
   ]
  },
  {
   "cell_type": "markdown",
   "id": "557e73cf-3246-4ec5-a7a6-c754a076b767",
   "metadata": {},
   "source": [
    "### 1.1. Merge dataset with res_id_lookup.csv"
   ]
  },
  {
   "cell_type": "code",
   "execution_count": 7,
   "id": "7bc3fd82-f3f8-44bd-9570-dd4f34629f37",
   "metadata": {},
   "outputs": [
    {
     "data": {
      "text/plain": [
       "((52968, 4),\n",
       " Index(['business_id', 'stars', 'clean_text', 'name'], dtype='object'))"
      ]
     },
     "execution_count": 7,
     "metadata": {},
     "output_type": "execute_result"
    }
   ],
   "source": [
    "temp = pd.read_csv('./csv/res_id_lookup.csv')\n",
    "df = df.merge(temp, on='business_id')\n",
    "df.shape, df.columns"
   ]
  },
  {
   "cell_type": "markdown",
   "id": "3dd42e00-a2fa-4d71-b972-b4dc419219a8",
   "metadata": {},
   "source": [
    "### 1.2. Load key complaints"
   ]
  },
  {
   "cell_type": "code",
   "execution_count": 8,
   "id": "a0a8acf3-52df-485c-a742-bc43edb74c85",
   "metadata": {},
   "outputs": [],
   "source": [
    "# Load data\n",
    "cumplidos = pd.read_csv('./csv/res_compliments.csv')\n",
    "quejas = pd.read_csv('./csv/res_complaints.csv')"
   ]
  },
  {
   "cell_type": "markdown",
   "id": "175f9533-990e-4a52-be61-94f08ad6012c",
   "metadata": {},
   "source": [
    "# 2. Regressions one for each restaurant"
   ]
  },
  {
   "cell_type": "code",
   "execution_count": 10,
   "id": "b6a4b91d-b41a-4478-91ba-ee6a06a901de",
   "metadata": {},
   "outputs": [
    {
     "name": "stdout",
     "output_type": "stream",
     "text": [
      "1. Now running regression for restaurant Luke, R2:                                       0.35\n",
      "2. Now running regression for restaurant Gumbo Shop, R2:                                       0.12\n",
      "3. Now running regression for restaurant Commander's Palace, R2:                                       0.34\n",
      "4. Now running regression for restaurant Royal House, R2:                                       0.5\n",
      "5. Now running regression for restaurant Felix's Restaurant & Oyster Bar, R2:                                       0.44\n",
      "6. Now running regression for restaurant Cochon, R2:                                       0.36\n",
      "7. Now running regression for restaurant Mother's Restaurant, R2:                                       0.43\n",
      "8. Now running regression for restaurant Oceana Grill, R2:                                       0.4\n",
      "9. Now running regression for restaurant Acme Oyster House, R2:                                       0.37\n",
      "10. Now running regression for restaurant Ruby Slipper - New Orleans, R2:                                       0.4\n"
     ]
    }
   ],
   "source": [
    "# Load data\n",
    "cumplidos = pd.read_csv('./csv/res_compliments.csv')\n",
    "quejas = pd.read_csv('./csv/res_complaints.csv')\n",
    "\n",
    "# Loop over each business_id\n",
    "counter = 0\n",
    "for business_id in df['business_id'].unique():\n",
    "    # Filter data for the current business_id\n",
    "    business_df = df[df['business_id'] == business_id]\n",
    "    name = business_df['name'].iloc[0] \n",
    "    \n",
    "    # Filter compliments for this restaurant\n",
    "    compliments_restaurant = cumplidos[cumplidos['business_id'] == business_id]\n",
    "    compliments = compliments_restaurant['compliments'].tolist()\n",
    "    for compliment in compliments:\n",
    "        business_df[compliment] = business_df['clean_text'].str.contains(compliment).astype(int)\n",
    "\n",
    "    # Filter complaints for this restaurant\n",
    "    complaints_restaurant = quejas[quejas['business_id'] == business_id]\n",
    "    complaints = complaints_restaurant['complaints'].tolist()\n",
    "    for complaint in complaints:\n",
    "        business_df[complaint] = business_df['clean_text'].str.contains(complaint).astype(int)\n",
    "\n",
    "    # Remove columns with all zeros\n",
    "    business_df = business_df.loc[:, (business_df != 0).any(axis=0)]\n",
    "\n",
    "    # Define features and target variable for this restaurant\n",
    "    X = business_df.drop(['clean_text', 'name', 'stars', 'business_id'], axis=1)  # Features\n",
    "    y = business_df['stars']  # Target variable\n",
    "\n",
    "    # Run regression for this restaurant\n",
    "    model = LinearRegression()\n",
    "    model.fit(X, y)\n",
    "    r_squared= round(model.score(X, y),2)\n",
    "\n",
    "    counter = counter + 1\n",
    "    \n",
    "    # Print state of the loop\n",
    "    print(f'{counter}. Now running regression for restaurant {name}, R2:                                       {r_squared}')\n",
    "\n",
    "    # Save coefficients into an Excel file in the folders csv/regressions\n",
    "    coefficients = model.coef_\n",
    "    feature_names = X.columns\n",
    "    df_coefficients = pd.DataFrame({'Feature': feature_names, 'Coefficient': coefficients})\n",
    "    intercept_row = pd.DataFrame({'Feature': ['Intercept'], 'Coefficient': [model.intercept_]})\n",
    "    \n",
    "    df_coefficients = pd.concat([intercept_row, df_coefficients ], ignore_index=True)\n",
    "    df_coefficients['name'] = business_df['name'].iloc[0] \n",
    "    df_coefficients['business_id'] = business_id\n",
    "    df_coefficients = df_coefficients[df_coefficients['Coefficient']<5]\n",
    "    df_coefficients = df_coefficients[df_coefficients['Coefficient']>-5]\n",
    "    \n",
    "    df_coefficients = df_coefficients.sort_values(\"Coefficient\", ascending=True)\n",
    "    df_coefficients.to_csv(f'./csv/regressions/{name}_coeffs.csv', index=False)\n"
   ]
  },
  {
   "cell_type": "code",
   "execution_count": 12,
   "id": "fc809eee-3e01-4fb5-82ef-9cb777c0f857",
   "metadata": {},
   "outputs": [
    {
     "name": "stdout",
     "output_type": "stream",
     "text": [
      "Now running regression for restaurant Luke, R2: 0.35\n",
      "Now running regression for restaurant Gumbo Shop, R2: 0.12\n",
      "Now running regression for restaurant Commander's Palace, R2: 0.34\n",
      "Now running regression for restaurant Royal House, R2: 0.5\n",
      "Now running regression for restaurant Felix's Restaurant & Oyster Bar, R2: 0.44\n",
      "Now running regression for restaurant Cochon, R2: 0.36\n",
      "Now running regression for restaurant Mother's Restaurant, R2: 0.43\n",
      "Now running regression for restaurant Oceana Grill, R2: 0.4\n",
      "Now running regression for restaurant Acme Oyster House, R2: 0.37\n",
      "Now running regression for restaurant Ruby Slipper - New Orleans, R2: 0.4\n"
     ]
    }
   ],
   "source": [
    "import pandas as pd\n",
    "\n",
    "# Load data\n",
    "cumplidos = pd.read_csv('./csv/res_compliments.csv')\n",
    "quejas = pd.read_csv('./csv/res_complaints.csv')\n",
    "\n",
    "# Create an empty dataframe to store the concatenated dataframes\n",
    "concatenated_df = pd.DataFrame()\n",
    "\n",
    "# Loop over each business_id\n",
    "for business_id in df['business_id'].unique():\n",
    "    # Filter data for the current business_id\n",
    "    business_df = df[df['business_id'] == business_id]\n",
    "    name = business_df['name'].iloc[0] \n",
    "    \n",
    "    # Filter compliments for this restaurant\n",
    "    compliments_restaurant = cumplidos[cumplidos['business_id'] == business_id]\n",
    "    compliments = compliments_restaurant['compliments'].tolist()\n",
    "    for compliment in compliments:\n",
    "        business_df[compliment] = business_df['clean_text'].str.contains(compliment).astype(int)\n",
    "\n",
    "    # Filter complaints for this restaurant\n",
    "    complaints_restaurant = quejas[quejas['business_id'] == business_id]\n",
    "    complaints = complaints_restaurant['complaints'].tolist()\n",
    "    for complaint in complaints:\n",
    "        business_df[complaint] = business_df['clean_text'].str.contains(complaint).astype(int)\n",
    "\n",
    "    # Remove columns with all zeros\n",
    "    business_df = business_df.loc[:, (business_df != 0).any(axis=0)]\n",
    "\n",
    "    # Define features and target variable for this restaurant\n",
    "    X = business_df.drop(['clean_text', 'name', 'stars', 'business_id'], axis=1)  # Features\n",
    "    y = business_df['stars']  # Target variable\n",
    "\n",
    "    # Run regression for this restaurant\n",
    "    model = LinearRegression()\n",
    "    model.fit(X, y)\n",
    "    r_squared = round(model.score(X, y), 2)\n",
    "\n",
    "    # Print state of the loop\n",
    "    print(f'Now running regression for restaurant {name}, R2: {r_squared}')\n",
    "\n",
    "    # Save coefficients into an Excel file in the folders csv/regressions\n",
    "    coefficients = model.coef_\n",
    "    feature_names = X.columns\n",
    "    df_coefficients = pd.DataFrame({'Feature': feature_names, 'Coefficient': coefficients})\n",
    "    intercept_row = pd.DataFrame({'Feature': ['Intercept'], 'Coefficient': [model.intercept_]})\n",
    "    \n",
    "    df_coefficients = pd.concat([intercept_row, df_coefficients], ignore_index=True)\n",
    "    df_coefficients['name'] = business_df['name'].iloc[0] \n",
    "    df_coefficients['business_id'] = business_id\n",
    "    df_coefficients = df_coefficients[(df_coefficients['Coefficient'] < 5) & (df_coefficients['Coefficient'] > -5)]\n",
    "    df_coefficients = df_coefficients.sort_values(\"Coefficient\", ascending=True)\n",
    "    \n",
    "    concatenated_df = pd.concat([concatenated_df, df_coefficients], ignore_index=True)\n",
    "\n",
    "# Save the concatenated dataframe to a CSV file\n",
    "concatenated_df.to_csv('./csv/regressions/concatenated_coeffs.csv', index=False)"
   ]
  }
 ],
 "metadata": {
  "kernelspec": {
   "display_name": "Python 3 (ipykernel)",
   "language": "python",
   "name": "python3"
  },
  "language_info": {
   "codemirror_mode": {
    "name": "ipython",
    "version": 3
   },
   "file_extension": ".py",
   "mimetype": "text/x-python",
   "name": "python",
   "nbconvert_exporter": "python",
   "pygments_lexer": "ipython3",
   "version": "3.10.6"
  }
 },
 "nbformat": 4,
 "nbformat_minor": 5
}
